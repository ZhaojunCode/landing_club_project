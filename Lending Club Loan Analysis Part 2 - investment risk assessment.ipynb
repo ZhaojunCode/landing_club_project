{
 "cells": [
  {
   "cell_type": "markdown",
   "metadata": {},
   "source": [
    "# Investment risk assessment \n",
    "This section, I will focus on analyze the features of the bad loan and fully charged loan.I will generate a model to identify bad loan and good loan. The investor can use this to avoid the bad loan. "
   ]
  },
  {
   "cell_type": "code",
   "execution_count": null,
   "metadata": {},
   "outputs": [],
   "source": [
    "\"\"\"\n",
    "load data, since we are only going to analysis the bad loan and full loan, \n",
    "therefore a dataframe that does not include the Current loan status will be used.\n",
    "\"\"\"\n",
    "#load the csv file "
   ]
  }
 ],
 "metadata": {
  "kernelspec": {
   "display_name": "Python 3",
   "language": "python",
   "name": "python3"
  },
  "language_info": {
   "codemirror_mode": {
    "name": "ipython",
    "version": 3
   },
   "file_extension": ".py",
   "mimetype": "text/x-python",
   "name": "python",
   "nbconvert_exporter": "python",
   "pygments_lexer": "ipython3",
   "version": "3.6.3"
  }
 },
 "nbformat": 4,
 "nbformat_minor": 2
}
